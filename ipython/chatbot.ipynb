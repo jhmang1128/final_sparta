{
 "cells": [
  {
   "cell_type": "markdown",
   "metadata": {},
   "source": [
    "## test gpt, rag"
   ]
  },
  {
   "cell_type": "code",
   "execution_count": 3,
   "metadata": {},
   "outputs": [
    {
     "data": {
      "text/plain": [
       "True"
      ]
     },
     "execution_count": 3,
     "metadata": {},
     "output_type": "execute_result"
    }
   ],
   "source": [
    "from dotenv import load_dotenv\n",
    "\n",
    "\n",
    "#### load env\n",
    "load_dotenv()"
   ]
  },
  {
   "cell_type": "code",
   "execution_count": 4,
   "metadata": {},
   "outputs": [
    {
     "name": "stdout",
     "output_type": "stream",
     "text": [
      "\n",
      "\n",
      " path ㅡㅡㅡㅡㅡㅡㅡㅡㅡㅡㅡㅡㅡㅡㅡㅡㅡㅡㅡㅡㅡㅡㅡㅡㅡㅡㅡㅡㅡㅡㅡㅡㅡㅡㅡㅡㅡㅡㅡㅡㅡㅡㅡㅡㅡ\n",
      "\n",
      "pwd : z:\\maeng_dir\\sparta_camp\\final_sparta\\ipython\n",
      "book_DB_dir : ..\\book_DB\n"
     ]
    }
   ],
   "source": [
    "import os\n",
    "\n",
    "\n",
    "#### path\n",
    "print(\"\\n\\n path ㅡㅡㅡㅡㅡㅡㅡㅡㅡㅡㅡㅡㅡㅡㅡㅡㅡㅡㅡㅡㅡㅡㅡㅡㅡㅡㅡㅡㅡㅡㅡㅡㅡㅡㅡㅡㅡㅡㅡㅡㅡㅡㅡㅡㅡ\\n\")\n",
    "root_dir = \"..\"\n",
    "\n",
    "book_DB_dir = os.path.join(root_dir, \"book_DB\")\n",
    "\n",
    "\n",
    "print(\"pwd :\", os.getcwd())\n",
    "print(\"book_DB_dir :\", book_DB_dir)"
   ]
  },
  {
   "cell_type": "markdown",
   "metadata": {},
   "source": [
    "## LangChain"
   ]
  },
  {
   "cell_type": "code",
   "execution_count": null,
   "metadata": {},
   "outputs": [
    {
     "name": "stdout",
     "output_type": "stream",
     "text": [
      "사용자의 토양 정보를 바탕으로 적합한 작물을 추천해드리겠습니다. 사용자의 토양 정보는 다음과 같습니다:\n",
      "\n",
      "- 산도: 6.8\n",
      "- 전기전도도: 0.85\n",
      "- 유기물: 13.0\n",
      "- 유효인산: 74.7\n",
      "- 칼륨: 0.174\n",
      "- 칼슘: 3.5\n",
      "- 마그네슘: 1.1\n",
      "\n",
      "이 정보를 바탕으로 각 작물의 요구 조건과 비교해보면:\n",
      "\n",
      "1. **가지**\n",
      "   - 산도: 6.0~6.5 (사용자 토양: 6.8) → 산도가 높음\n",
      "   - 전기전도도: <2 (사용자 토양: 0.85) → 적합\n",
      "   - 유기물: 20~30 (사용자 토양: 13.0) → 부족\n",
      "   - 유효인산: 400~500 (사용자 토양: 74.7) → 부족\n",
      "   - 칼륨: 0.7~0.8 (사용자 토양: 0.174) → 부족\n",
      "   - 칼슘: 5.0~6.0 (사용자 토양: 3.5) → 부족\n",
      "   - 마그네슘: 1.5~2.0 (사용자 토양: 1.1) → 부족\n",
      "\n",
      "2. **강활**\n",
      "   - 산도: 6.0~6.5 (사용자 토양: 6.8) → 산도가 높음\n",
      "   - 유기물: 25~30 (사용자 토양: 13.0) → 부족\n",
      "   - 유효인산: 150~250 (사용자 토양: 74.7) → 부족\n",
      "   - 칼륨: 0.45~0.55 (사용자 토양: 0.174) → 부족\n",
      "   - 칼슘: 5.0~6.0 (사용자 토양: 3.5) → 부족\n",
      "   - 마그네슘: 1.5~2.0 (사용자 토양: 1.1) → 부족\n",
      "\n",
      "3. **감나무**\n",
      "   - 산도: 6.0~6.5 (사용자 토양: 6.8) → 산도가 높음\n",
      "   - 유기물: 25~35 (사용자 토양: 13.0) → 부족\n",
      "   - 유효인산: 200~300 (사용자 토양: 74.7) → 부족\n",
      "   - 칼륨: 0.30~0.60 (사용자 토양: 0.174) → 부족\n",
      "   - 칼슘: 5.0~6.0 (사용자 토양: 3.5) → 부족\n",
      "   - 마그네슘: 1.5~2.0 (사용자 토양: 1.1) → 부족\n",
      "\n",
      "4. **감초**\n",
      "   - 산도: 6.0~6.5 (사용자 토양: 6.8) → 산도가 높음\n",
      "   - 유기물: 25~30 (사용자 토양: 13.0) → 부족\n",
      "   - 유효인산: 150~250 (사용자 토양: 74.7) → 부족\n",
      "   - 칼륨: 0.45~0.55 (사용자 토양: 0.174) → 부족\n",
      "   - 칼슘: 5.0~6.0 (사용자 토양: 3.5) → 부족\n",
      "   - 마그네슘: 1.5~2.0 (사용자 토양: 1.1) → 부족\n",
      "\n",
      "**결론:**\n",
      "현재 사용자의 토양 조건은 모든 추천 작물의 요구 조건에 비해 부족한 요소가 많습니다. 특히 유기물, 유효인산, 칼륨, 칼슘, 마그네슘이 부족하여 작물 재배에 적합하지 않은 상태입니다. \n",
      "\n",
      "따라서, 토양 개선 작업이 필요합니다. 유기물과 영양소를 보충하기 위해 퇴비나 비료를 추가하는 것이 좋습니다. 이후 적절한 작물을 선택할 수 있을 것입니다.\n"
     ]
    }
   ],
   "source": [
    "from langchain.prompts import ChatPromptTemplate\n",
    "from langchain_chroma import Chroma\n",
    "from langchain_openai import ChatOpenAI, OpenAIEmbeddings\n",
    "\n",
    "\n",
    "#### input\n",
    "user_question = \"가지를 키울 토양의 화학성 수치 정보좀 줘\"\n",
    "user_soil = {'지번코드(PNU_Code)': '5115034022100750001',\n",
    " '시료채취년도(Any_Year)': '2024',\n",
    " '토양검정일(Exam_Day)': '20240325',\n",
    " '경지구분코드(Exam_Type)': '1',\n",
    " '대상지 지번주소(PNU_Nm)': '강원특별자치도 강릉시 강동면 모전리 75-1',\n",
    " '산도(ACID)': '6.800',\n",
    " '유효인산(VLDPHA)': '74.700',\n",
    " '유효규산(VLDSIA)': '77.000',\n",
    " '유기물(OM)': '13.000',\n",
    " '마그네슘(POSIFERT_MG)': '1.100',\n",
    " '칼륨(POSIFERT_K)': '0.174',\n",
    " '칼슘(POSIFERT_CA)': '3.500',\n",
    " '전기전도도(SELC)': '0.850'}\n",
    "\n",
    "#### RAG\n",
    "embeddings = OpenAIEmbeddings()\n",
    "book_DB = Chroma(\n",
    "            persist_directory = book_DB_dir,\n",
    "            embedding_function = embeddings,\n",
    "        )\n",
    "\n",
    "\n",
    "retriever = book_DB.as_retriever()\n",
    "retrieved_docs = retriever.invoke(user_question)\n",
    "context = \"\\n\".join([doc.page_content for doc in retrieved_docs])\n",
    "\n",
    "\n",
    "#### LLM & prompt\n",
    "llm = ChatOpenAI(model=\"gpt-4o-mini\", temperature=0)\n",
    "\n",
    "# Question: {user_question}\n",
    "prompt_RAG = ChatPromptTemplate.from_template(\n",
    "    \"\"\"\n",
    "        \n",
    "        user_soil: {user_soil}\n",
    "        Context: {context}\n",
    "        Answer:\n",
    "            \n",
    "        1. Context와 사용자의 토양 정보(user_soil)를 활용해서 사용자의 토양에 적합한 작물을 추천해줘\n",
    "        \n",
    "        \n",
    "    \"\"\")\n",
    "\n",
    "\n",
    "#### Chain\n",
    "chain = prompt_RAG | llm\n",
    "res = chain.invoke({\"context\": context, \"user_soil\": user_soil})\n",
    "result_RAG = res.content\n",
    "\n",
    "with open(\"../result_RAG.txt\", \"w\") as f:\n",
    "    f.write(result_RAG)\n",
    "\n",
    "# print(result_RAG)"
   ]
  },
  {
   "cell_type": "code",
   "execution_count": null,
   "metadata": {},
   "outputs": [],
   "source": [
    "# chain_C = prompt_C | llm\n",
    "# res_C = chain_C.invoke({\"result_RAG\": result_RAG, \"result_LLM\": result_LLM})\n",
    "# result_03 = res_C.content\n",
    "# print(\"\\n\\n>>>>>>>>>>>>>>>>>>>>>>>>>>>>>>>>>>>>>>>>>>>>>>>>>>>>>>>>>>>>>>>>>>>>>>>>>>>>>>\")\n",
    "# print(\"prompt_C\")\n",
    "# print(result_03)"
   ]
  }
 ],
 "metadata": {
  "kernelspec": {
   "display_name": "final_sparta",
   "language": "python",
   "name": "python3"
  },
  "language_info": {
   "codemirror_mode": {
    "name": "ipython",
    "version": 3
   },
   "file_extension": ".py",
   "mimetype": "text/x-python",
   "name": "python",
   "nbconvert_exporter": "python",
   "pygments_lexer": "ipython3",
   "version": "3.10.16"
  }
 },
 "nbformat": 4,
 "nbformat_minor": 2
}
