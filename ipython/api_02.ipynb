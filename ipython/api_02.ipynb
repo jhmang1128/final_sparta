{
 "cells": [
  {
   "cell_type": "markdown",
   "metadata": {},
   "source": [
    "## 국토 교통부 법정동"
   ]
  },
  {
   "cell_type": "code",
   "execution_count": null,
   "metadata": {},
   "outputs": [],
   "source": [
    "api_key = [\"c8ZRgqTCB40VHTetaAMVZ6VHBFeB9PRuw87skwW41gL8k6%2B8d5d6MObEQFSsB9fiV8wt%2FeeOjxCBPJQsM0ckMg%3D%3D\",\n",
    "           \"c8ZRgqTCB40VHTetaAMVZ6VHBFeB9PRuw87skwW41gL8k6+8d5d6MObEQFSsB9fiV8wt/eeOjxCBPJQsM0ckMg==\"]"
   ]
  },
  {
   "cell_type": "code",
   "execution_count": null,
   "metadata": {},
   "outputs": [],
   "source": []
  }
 ],
 "metadata": {
  "kernelspec": {
   "display_name": "final_sparta",
   "language": "python",
   "name": "python3"
  },
  "language_info": {
   "codemirror_mode": {
    "name": "ipython",
    "version": 3
   },
   "file_extension": ".py",
   "mimetype": "text/x-python",
   "name": "python",
   "nbconvert_exporter": "python",
   "pygments_lexer": "ipython3",
   "version": "3.10.16"
  }
 },
 "nbformat": 4,
 "nbformat_minor": 2
}
